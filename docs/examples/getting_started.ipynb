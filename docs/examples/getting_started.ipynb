{
 "cells": [
  {
   "cell_type": "markdown",
   "metadata": {},
   "source": [
    "# Getting Started\n",
    "\n",
    "### Import modules"
   ]
  },
  {
   "cell_type": "code",
   "execution_count": 12,
   "metadata": {},
   "outputs": [],
   "source": [
    "from rlway.pyosrd.osrd import OSRD\n",
    "from rlway.schedules import Schedule, schedule_from_osrd\n",
    "\n",
    "# Import two CpAgents :\n",
    "from rlway_cpagent.ortools_agent.ortools_agent import OrtoolsAgent"
   ]
  },
  {
   "cell_type": "markdown",
   "metadata": {},
   "source": [
    "### Load a use case and add delays"
   ]
  },
  {
   "cell_type": "code",
   "execution_count": 13,
   "metadata": {},
   "outputs": [
    {
     "name": "stdout",
     "output_type": "stream",
     "text": [
      "[14:29:18,244] \u001b[34m[INFO] \u001b[0;39m [StandaloneSimulationCommand] Loading infra: tmp/infra.json\n",
      "[14:29:18,271] \u001b[34m[INFO] \u001b[0;39m             [FullInfra] parsing infra\n",
      "[14:29:18,328] \u001b[34m[INFO] \u001b[0;39m             [FullInfra] adaptation to kotlin\n",
      "[14:29:18,361] \u001b[34m[INFO] \u001b[0;39m             [FullInfra] loading signals\n",
      "[14:29:18,366] \u001b[34m[INFO] \u001b[0;39m             [FullInfra] building blocks\n",
      "[14:29:18,370] \u001b[34m[INFO] \u001b[0;39m [StandaloneSimulationCommand] Loading input: tmp/simulation.json\n",
      "[14:29:18,380] \u001b[34m[INFO] \u001b[0;39m [StandaloneSimulationCommand] Running simulation for schedule group: group.4\n",
      "[14:29:18,429] \u001b[34m[INFO] \u001b[0;39m [StandaloneSimulationCommand] Running simulation for schedule group: group.5\n",
      "[14:29:18,435] \u001b[34m[INFO] \u001b[0;39m [StandaloneSimulationCommand] All simulations completed\n",
      "[14:29:18,435] \u001b[34m[INFO] \u001b[0;39m [StandaloneSimulationCommand] Saving results at: tmp/results.json\n"
     ]
    }
   ],
   "source": [
    "# Load an OSRD use case\n",
    "ref = OSRD(use_case='station_capacity2', dir='tmp')\n",
    "# Clear the tmp delays\n",
    "ref.reset_delays()\n",
    "# Add a new delay to the use case\n",
    "ref.add_delay('train0', time_threshold=100, delay=285.)\n",
    "delayed = ref.delayed()"
   ]
  },
  {
   "cell_type": "markdown",
   "metadata": {},
   "source": [
    "### Visualize use case"
   ]
  },
  {
   "cell_type": "code",
   "execution_count": 14,
   "metadata": {},
   "outputs": [],
   "source": [
    "# Convert the simulation in a format more suitable for visualization\n",
    "delayed_schedule = schedule_from_osrd(delayed)"
   ]
  },
  {
   "cell_type": "code",
   "execution_count": 15,
   "metadata": {},
   "outputs": [
    {
     "name": "stderr",
     "output_type": "stream",
     "text": [
      "/home/simon/dev/python/cpagent/.venv/lib/python3.10/site-packages/rlway/schedules/schedules.py:425: FutureWarning: Downcasting object dtype arrays on .fillna, .ffill, .bfill is deprecated and will change in a future version. Call result.infer_objects(copy=False) instead. To opt-in to the future behavior, set `pd.set_option('future.no_silent_downcasting', True)`\n",
      "  for u, v in zip(self.df.index, self.df.fillna(0).values)\n"
     ]
    },
    {
     "data": {
      "text/html": [
       "<img src=\"https://mermaid.ink/img/Z3JhcGggTFI7RFZHLS0+RDItRDQ7RFZHLS0+RDEtRDM7RDItRDQtLT5DVkc7RDAtYnVmZmVyX3N0b3AuMC0tPkRWRztDVkctLT5ENS1idWZmZXJfc3RvcC41O0QxLUQzLS0+Q1ZH\"/>"
      ],
      "text/plain": [
       "<IPython.core.display.Image object>"
      ]
     },
     "execution_count": 15,
     "metadata": {},
     "output_type": "execute_result"
    }
   ],
   "source": [
    "# Draw the infrastructure\n",
    "delayed_schedule.draw_graph()"
   ]
  },
  {
   "cell_type": "code",
   "execution_count": 16,
   "metadata": {},
   "outputs": [
    {
     "data": {
      "text/plain": [
       "<Axes: xlabel='Time'>"
      ]
     },
     "execution_count": 16,
     "metadata": {},
     "output_type": "execute_result"
    },
    {
     "data": {
      "image/png": "[encoded data removed]",
      "text/plain": [
       "<Figure size 640x480 with 1 Axes>"
      ]
     },
     "metadata": {},
     "output_type": "display_data"
    }
   ],
   "source": [
    "# Plot the space/time graph\n",
    "delayed_schedule.plot()"
   ]
  },
  {
   "cell_type": "markdown",
   "metadata": {},
   "source": [
    "### Compute an optimal regulation using OrtoolsAgent"
   ]
  },
  {
   "cell_type": "code",
   "execution_count": 17,
   "metadata": {},
   "outputs": [
    {
     "name": "stdout",
     "output_type": "stream",
     "text": [
      "[14:29:18,999] \u001b[34m[INFO] \u001b[0;39m [StandaloneSimulationCommand] Loading infra: tmp/infra.json\n",
      "[14:29:19,024] \u001b[34m[INFO] \u001b[0;39m             [FullInfra] parsing infra\n",
      "[14:29:19,085] \u001b[34m[INFO] \u001b[0;39m             [FullInfra] adaptation to kotlin\n",
      "[14:29:19,110] \u001b[34m[INFO] \u001b[0;39m             [FullInfra] loading signals\n",
      "[14:29:19,114] \u001b[34m[INFO] \u001b[0;39m             [FullInfra] building blocks\n",
      "[14:29:19,119] \u001b[34m[INFO] \u001b[0;39m [StandaloneSimulationCommand] Loading input: tmp/delayed/ortools_agent/simulation.json\n",
      "[14:29:19,129] \u001b[34m[INFO] \u001b[0;39m [StandaloneSimulationCommand] Running simulation for schedule group: group.4\n",
      "[14:29:19,184] \u001b[34m[INFO] \u001b[0;39m [StandaloneSimulationCommand] Running simulation for schedule group: group.5\n",
      "[14:29:19,192] \u001b[34m[INFO] \u001b[0;39m [StandaloneSimulationCommand] All simulations completed\n",
      "[14:29:19,192] \u001b[34m[INFO] \u001b[0;39m [StandaloneSimulationCommand] Saving results at: tmp/delayed/ortools_agent/results.json\n"
     ]
    }
   ],
   "source": [
    "ortools_regulated = ref.regulate(agent=OrtoolsAgent(\"ortools_agent\"))\n",
    "ortools_regulated_schedule = schedule_from_osrd(ortools_regulated)"
   ]
  },
  {
   "cell_type": "markdown",
   "metadata": {},
   "source": [
    "### "
   ]
  }
 ],
 "metadata": {
  "kernelspec": {
   "display_name": "venv",
   "language": "python",
   "name": "python3"
  },
  "language_info": {
   "codemirror_mode": {
    "name": "ipython",
    "version": 3
   },
   "file_extension": ".py",
   "mimetype": "text/x-python",
   "name": "python",
   "nbconvert_exporter": "python",
   "pygments_lexer": "ipython3",
   "version": "3.10.12"
  }
 },
 "nbformat": 4,
 "nbformat_minor": 2
}
