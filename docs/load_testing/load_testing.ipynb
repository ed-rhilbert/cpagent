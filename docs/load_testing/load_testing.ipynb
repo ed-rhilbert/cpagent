{
 "cells": [
  {
   "cell_type": "code",
   "execution_count": 1,
   "metadata": {},
   "outputs": [],
   "source": [
    "%load_ext autoreload\n",
    "%autoreload 2"
   ]
  },
  {
   "cell_type": "code",
   "execution_count": 2,
   "metadata": {},
   "outputs": [
    {
     "name": "stderr",
     "output_type": "stream",
     "text": [
      "/home/simon/dev/python/cpagent/.venv/lib/python3.10/site-packages/tqdm/auto.py:21: TqdmWarning: IProgress not found. Please update jupyter and ipywidgets. See https://ipywidgets.readthedocs.io/en/stable/user_install.html\n",
      "  from .autonotebook import tqdm as notebook_tqdm\n"
     ]
    }
   ],
   "source": [
    "from agent_load_testing.use_case_generator import generate_garage_use_case\n",
    "from rlway_cpagent.osrd_adapter import regulation_problem_from_schedule, schedule_from_solution\n",
    "from rlway_cpagent.ortools_agent.ortools_solver import OrtoolsRegulationSolver\n",
    "import pandas as pd\n",
    "import os\n",
    "import numpy as np\n",
    "import seaborn as sns\n",
    "import matplotlib.pyplot as plt\n",
    "from agent_load_testing.load_testing import matrix_load_testing, linear_load_testing, load_testing\n",
    "\n",
    "import nest_asyncio  \n",
    "nest_asyncio.apply()"
   ]
  },
  {
   "cell_type": "markdown",
   "metadata": {},
   "source": [
    "## Large problem generation"
   ]
  },
  {
   "cell_type": "code",
   "execution_count": 6,
   "metadata": {},
   "outputs": [],
   "source": [
    "problem = generate_garage_use_case(2, 2, 0.05)"
   ]
  },
  {
   "cell_type": "markdown",
   "metadata": {},
   "source": [
    "## Solve"
   ]
  },
  {
   "cell_type": "code",
   "execution_count": 7,
   "metadata": {},
   "outputs": [
    {
     "ename": "TypeError",
     "evalue": "schedule_from_solution() missing 1 required positional argument: 'solution'",
     "output_type": "error",
     "traceback": [
      "\u001b[0;31m---------------------------------------------------------------------------\u001b[0m",
      "\u001b[0;31mTypeError\u001b[0m                                 Traceback (most recent call last)",
      "Cell \u001b[0;32mIn[7], line 3\u001b[0m\n\u001b[1;32m      1\u001b[0m solver \u001b[38;5;241m=\u001b[39m OrtoolsRegulationSolver(\u001b[38;5;124m\"\u001b[39m\u001b[38;5;124mortools\u001b[39m\u001b[38;5;124m\"\u001b[39m, \u001b[38;5;241m86400\u001b[39m, \u001b[38;5;28;01mTrue\u001b[39;00m)\n\u001b[1;32m      2\u001b[0m solution \u001b[38;5;241m=\u001b[39m solver\u001b[38;5;241m.\u001b[39msolve(problem)\n\u001b[0;32m----> 3\u001b[0m regulated_schedule \u001b[38;5;241m=\u001b[39m \u001b[43mschedule_from_solution\u001b[49m\u001b[43m(\u001b[49m\u001b[43msolution\u001b[49m\u001b[43m)\u001b[49m\n\u001b[1;32m      5\u001b[0m \u001b[38;5;28mprint\u001b[39m(solution\u001b[38;5;241m.\u001b[39mstatus)\n\u001b[1;32m      6\u001b[0m df \u001b[38;5;241m=\u001b[39m pd\u001b[38;5;241m.\u001b[39mDataFrame(solver\u001b[38;5;241m.\u001b[39mhistory, columns\u001b[38;5;241m=\u001b[39m[\u001b[38;5;124m'\u001b[39m\u001b[38;5;124mcomputation_time\u001b[39m\u001b[38;5;124m'\u001b[39m, \u001b[38;5;124m'\u001b[39m\u001b[38;5;124mobjective\u001b[39m\u001b[38;5;124m'\u001b[39m, \u001b[38;5;124m'\u001b[39m\u001b[38;5;124mborn_inf\u001b[39m\u001b[38;5;124m'\u001b[39m])\n",
      "\u001b[0;31mTypeError\u001b[0m: schedule_from_solution() missing 1 required positional argument: 'solution'"
     ]
    }
   ],
   "source": [
    "solver = OrtoolsRegulationSolver(\"ortools\", 86400, True)\n",
    "solution = solver.solve(problem)\n",
    "regulated_schedule = schedule_from_solution(solution)\n",
    "\n",
    "print(solution.status)\n",
    "df = pd.DataFrame(solver.history, columns=['computation_time', 'objective', 'born_inf'])\n",
    "df.to_csv(\"./large_problem.csv\", index=False)"
   ]
  },
  {
   "cell_type": "markdown",
   "metadata": {},
   "source": [
    "## Viz Solution"
   ]
  },
  {
   "cell_type": "code",
   "execution_count": 5,
   "metadata": {},
   "outputs": [],
   "source": [
    "df = pd.read_csv(\"./large_problem.csv\")"
   ]
  },
  {
   "cell_type": "code",
   "execution_count": null,
   "metadata": {},
   "outputs": [],
   "source": [
    "regulated_schedule.plot()"
   ]
  },
  {
   "cell_type": "code",
   "execution_count": null,
   "metadata": {},
   "outputs": [],
   "source": [
    "times, delays, borns = zip(*solver.history)"
   ]
  },
  {
   "cell_type": "code",
   "execution_count": null,
   "metadata": {},
   "outputs": [],
   "source": [
    "data = df.to_numpy()\n",
    "times, delays, borns = data.T"
   ]
  },
  {
   "cell_type": "code",
   "execution_count": null,
   "metadata": {},
   "outputs": [],
   "source": [
    "\n",
    "plt.plot(times/3600, delays/3600, label=\"ortools\")\n",
    "#plt.plot(times, borns, label=\"born_inf\")\n",
    "plt.axhline(y=borns[-1]/3600, color='r', linestyle='--', label=\"lower bound\")\n",
    "plt.xlabel(\"computation time (hours)\")\n",
    "plt.ylabel(\"sum of delays (hours)\")\n",
    "plt.legend()\n",
    "plt.suptitle(\"(50 stations, 30 trains)\", fontsize=10)\n",
    "plt.title(\"Best found solution versus computationnal effort\")\n",
    "plt.show()"
   ]
  },
  {
   "cell_type": "markdown",
   "metadata": {},
   "source": [
    "# Matrix Performance Testing"
   ]
  },
  {
   "cell_type": "code",
   "execution_count": null,
   "metadata": {},
   "outputs": [],
   "source": [
    "performances = matrix_load_testing(\n",
    "    [OrtoolsRegulationSolver(\"ortools\",60),\n",
    "     MinizincRegulationSolver(\"minizinc\", \"gecode\", 60)],\n",
    "    generate_garage_use_case,\n",
    "    ranges= {\n",
    "        \"nb_stations\": range(1, 18, 3),\n",
    "        \"nb_trains\": range(1, 18, 3),\n",
    "        \"delay_proba\": [0.1, 0.2]\n",
    "    })\n",
    "\n",
    "if not os.path.isfile('./performances.csv'):\n",
    "   performances.to_csv(\"./performances.csv\", header=True, index=False)\n",
    "else:\n",
    "   performances.to_csv(\"./performances.csv\", mode='a', header=False, index=False)"
   ]
  },
  {
   "cell_type": "markdown",
   "metadata": {},
   "source": [
    "### Ortools"
   ]
  },
  {
   "cell_type": "code",
   "execution_count": null,
   "metadata": {},
   "outputs": [],
   "source": [
    "df = performances.pivot(index='nb_stations', columns='nb_trains', values='ortools')\n",
    "#print(df)\n",
    "df = df.sort_index(ascending=False)\n",
    "print(df)"
   ]
  },
  {
   "cell_type": "code",
   "execution_count": null,
   "metadata": {},
   "outputs": [],
   "source": [
    "ax = sns.heatmap(df)\n",
    "plt.show()"
   ]
  },
  {
   "cell_type": "markdown",
   "metadata": {},
   "source": [
    "### Minizinc"
   ]
  },
  {
   "cell_type": "code",
   "execution_count": null,
   "metadata": {},
   "outputs": [],
   "source": [
    "df = performances.pivot(index='nb_stations', columns='nb_trains', values='minizinc')\n",
    "#print(df)\n",
    "df = df.sort_index(ascending=False)\n",
    "print(df)"
   ]
  },
  {
   "cell_type": "code",
   "execution_count": null,
   "metadata": {},
   "outputs": [],
   "source": [
    "ax = sns.heatmap(df)\n",
    "plt.show()"
   ]
  },
  {
   "cell_type": "markdown",
   "metadata": {},
   "source": [
    "### Linear Performance Testing"
   ]
  },
  {
   "cell_type": "code",
   "execution_count": null,
   "metadata": {},
   "outputs": [],
   "source": [
    "NOMINAL_NB_TRAINS = 5\n",
    "NOMINAL_NB_STATIONS = 3\n",
    "NOMINAL_PROBA_DELAY = 0.1"
   ]
  },
  {
   "cell_type": "code",
   "execution_count": null,
   "metadata": {},
   "outputs": [],
   "source": [
    "linear_performances = linear_load_testing(\n",
    "    [OrtoolsRegulationSolver(\"ortools\",60),\n",
    "     MinizincRegulationSolver(\"minizinc\", \"gecode\", 60)],\n",
    "    generate_garage_use_case,\n",
    "    ranges= {\n",
    "        \"nb_stations\": {\n",
    "            \"range\": list(range(1, 5, 2)) + list(range(5, 20, 4)),\n",
    "            \"nominal\": NOMINAL_NB_STATIONS\n",
    "        },\n",
    "        \"nb_trains\": {\n",
    "            \"range\": list(range(1, 5, 2)) + list(range(5, 20, 4)),\n",
    "            \"nominal\": NOMINAL_NB_TRAINS\n",
    "        },\n",
    "        \"delay_proba\": {\n",
    "            \"range\": [NOMINAL_PROBA_DELAY],\n",
    "            \"nominal\": NOMINAL_PROBA_DELAY\n",
    "        }\n",
    "    })\n",
    "\n",
    "if not os.path.isfile('./performances.csv'):\n",
    "   linear_performances.to_csv(\"./performances.csv\", header=True, index=False)\n",
    "else:\n",
    "   linear_performances.to_csv(\"./performances.csv\", mode='a', header=False, index=False)"
   ]
  },
  {
   "cell_type": "markdown",
   "metadata": {},
   "source": [
    "### Nb_Stations impact"
   ]
  },
  {
   "cell_type": "code",
   "execution_count": null,
   "metadata": {},
   "outputs": [],
   "source": [
    "station_df = linear_performances[linear_performances['nb_trains'] == NOMINAL_NB_TRAINS]\n",
    "station_df = station_df.drop_duplicates(subset=['nb_stations', 'nb_trains'])\n",
    "station_df = station_df.sort_values(by=\"nb_stations\", ascending=True)\n",
    "plt.plot(station_df['nb_stations'], station_df['ortools'], label=\"ortools\")\n",
    "plt.plot(station_df['nb_stations'], station_df['minizinc'], label='minizinc')\n",
    "plt.xlabel(\"nb_stations\")\n",
    "plt.ylabel(\"computation_time(s)\")\n",
    "plt.legend()"
   ]
  },
  {
   "cell_type": "markdown",
   "metadata": {},
   "source": [
    "### Nb_Trains impact"
   ]
  },
  {
   "cell_type": "code",
   "execution_count": null,
   "metadata": {},
   "outputs": [],
   "source": [
    "train_df = linear_performances[linear_performances['nb_stations'] == NOMINAL_NB_STATIONS]\n",
    "train_df = train_df.drop_duplicates(subset=['nb_stations', 'nb_trains'])\n",
    "train_df = train_df.sort_values(by=\"nb_trains\", ascending=True)\n",
    "plt.plot(train_df['nb_trains'], train_df['ortools'], label=\"ortools\")\n",
    "plt.plot(train_df['nb_trains'], train_df['minizinc'], label=\"minizinc\")\n",
    "plt.xlabel(\"nb_trains\")\n",
    "plt.ylabel(\"computation_time(s)\")\n",
    "plt.legend()"
   ]
  },
  {
   "cell_type": "markdown",
   "metadata": {},
   "source": [
    "## Report from csv"
   ]
  },
  {
   "cell_type": "code",
   "execution_count": null,
   "metadata": {},
   "outputs": [],
   "source": [
    "performances_df = pd.read_csv(\"./performances.csv\")"
   ]
  },
  {
   "cell_type": "code",
   "execution_count": null,
   "metadata": {},
   "outputs": [],
   "source": [
    "grouped_performances = performances_df.groupby(['nb_stations', 'nb_trains', 'delay_proba']).mean().reset_index()\n",
    "heatmap_delay_0_1_df = grouped_performances[grouped_performances['delay_proba'] == 0.1].pivot(index='nb_stations', columns='nb_trains', values='ortools')\n",
    "heatmap_delay_0_1_df.head()"
   ]
  },
  {
   "cell_type": "code",
   "execution_count": null,
   "metadata": {},
   "outputs": [],
   "source": [
    "ax = sns.heatmap(heatmap_delay_0_1_df)\n",
    "plt.show()"
   ]
  },
  {
   "cell_type": "code",
   "execution_count": null,
   "metadata": {},
   "outputs": [],
   "source": [
    "heatmap_delay_0_2_df = grouped_performances[grouped_performances['delay_proba'] == 0.2].pivot(index='nb_stations', columns='nb_trains', values='ortools')\n",
    "heatmap_delay_0_2_df.head()"
   ]
  },
  {
   "cell_type": "code",
   "execution_count": null,
   "metadata": {},
   "outputs": [],
   "source": [
    "ax = sns.heatmap(heatmap_delay_0_2_df)\n",
    "plt.show()"
   ]
  },
  {
   "cell_type": "code",
   "execution_count": null,
   "metadata": {},
   "outputs": [],
   "source": [
    "performances_df.to_latex()"
   ]
  },
  {
   "cell_type": "markdown",
   "metadata": {},
   "source": [
    "## Table"
   ]
  },
  {
   "cell_type": "code",
   "execution_count": null,
   "metadata": {},
   "outputs": [],
   "source": [
    "df = load_testing(\n",
    "    [OrtoolsRegulationSolver(\"ortools\",3600)],\n",
    "    generate_garage_use_case,\n",
    "    [\n",
    "        {'nb_stations':9, 'nb_trains':9, 'delay_proba':0.05}\n",
    "    ],\n",
    "    \"./table2.csv\"\n",
    ")"
   ]
  },
  {
   "cell_type": "code",
   "execution_count": null,
   "metadata": {},
   "outputs": [],
   "source": [
    "df = pd.read_csv(\"./table2.csv\")\n",
    "df.to_latex(index=False, float_format=\"%.2f\")"
   ]
  }
 ],
 "metadata": {
  "kernelspec": {
   "display_name": "venv",
   "language": "python",
   "name": "python3"
  },
  "language_info": {
   "codemirror_mode": {
    "name": "ipython",
    "version": 3
   },
   "file_extension": ".py",
   "mimetype": "text/x-python",
   "name": "python",
   "nbconvert_exporter": "python",
   "pygments_lexer": "ipython3",
   "version": "3.10.12"
  }
 },
 "nbformat": 4,
 "nbformat_minor": 2
}
